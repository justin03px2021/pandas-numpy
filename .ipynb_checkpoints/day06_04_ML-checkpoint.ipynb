{
 "cells": [
  {
   "cell_type": "markdown",
   "id": "8ea52ea7",
   "metadata": {},
   "source": [
    "## day06_04_ML"
   ]
  },
  {
   "cell_type": "code",
   "execution_count": 2,
   "id": "7b54ad0f",
   "metadata": {},
   "outputs": [],
   "source": [
    "from sklearn import datasets\n",
    "import pandas as pd\n",
    "import numpy as np"
   ]
  },
  {
   "cell_type": "code",
   "execution_count": 6,
   "id": "3c951bdc",
   "metadata": {},
   "outputs": [
    {
     "data": {
      "text/plain": [
       "dict_keys(['data', 'target', 'frame', 'target_names', 'DESCR', 'feature_names', 'filename', 'data_module'])"
      ]
     },
     "execution_count": 6,
     "metadata": {},
     "output_type": "execute_result"
    }
   ],
   "source": [
    "#데이터 불러오기\n",
    "iris = datasets.load_iris()\n",
    "iris.keys()"
   ]
  },
  {
   "cell_type": "code",
   "execution_count": 10,
   "id": "4f245fac",
   "metadata": {},
   "outputs": [
    {
     "data": {
      "text/plain": [
       "150"
      ]
     },
     "execution_count": 10,
     "metadata": {},
     "output_type": "execute_result"
    }
   ],
   "source": [
    "#data\n",
    "iris['data']\n",
    "len(iris['data'])"
   ]
  },
  {
   "cell_type": "code",
   "execution_count": 13,
   "id": "ff984ef9",
   "metadata": {},
   "outputs": [
    {
     "data": {
      "text/plain": [
       "['sepal length (cm)',\n",
       " 'sepal width (cm)',\n",
       " 'petal length (cm)',\n",
       " 'petal width (cm)']"
      ]
     },
     "execution_count": 13,
     "metadata": {},
     "output_type": "execute_result"
    }
   ],
   "source": [
    "#feature_names: 데이터 컬럼에 대한 설명\n",
    "iris['feature_names']"
   ]
  },
  {
   "cell_type": "code",
   "execution_count": 15,
   "id": "a6c56216",
   "metadata": {},
   "outputs": [
    {
     "data": {
      "text/plain": [
       "array([0, 0, 0, 0, 0, 0, 0, 0, 0, 0, 0, 0, 0, 0, 0, 0, 0, 0, 0, 0, 0, 0,\n",
       "       0, 0, 0, 0, 0, 0, 0, 0, 0, 0, 0, 0, 0, 0, 0, 0, 0, 0, 0, 0, 0, 0,\n",
       "       0, 0, 0, 0, 0, 0, 1, 1, 1, 1, 1, 1, 1, 1, 1, 1, 1, 1, 1, 1, 1, 1,\n",
       "       1, 1, 1, 1, 1, 1, 1, 1, 1, 1, 1, 1, 1, 1, 1, 1, 1, 1, 1, 1, 1, 1,\n",
       "       1, 1, 1, 1, 1, 1, 1, 1, 1, 1, 1, 1, 2, 2, 2, 2, 2, 2, 2, 2, 2, 2,\n",
       "       2, 2, 2, 2, 2, 2, 2, 2, 2, 2, 2, 2, 2, 2, 2, 2, 2, 2, 2, 2, 2, 2,\n",
       "       2, 2, 2, 2, 2, 2, 2, 2, 2, 2, 2, 2, 2, 2, 2, 2, 2, 2])"
      ]
     },
     "execution_count": 15,
     "metadata": {},
     "output_type": "execute_result"
    }
   ],
   "source": [
    "#target: 정답값\n",
    "iris['target']"
   ]
  },
  {
   "cell_type": "code",
   "execution_count": 16,
   "id": "c40d0c09",
   "metadata": {},
   "outputs": [
    {
     "data": {
      "text/plain": [
       "1"
      ]
     },
     "execution_count": 16,
     "metadata": {},
     "output_type": "execute_result"
    }
   ],
   "source": [
    "iris['target'][80]"
   ]
  },
  {
   "cell_type": "code",
   "execution_count": 17,
   "id": "9b6cd326",
   "metadata": {},
   "outputs": [
    {
     "data": {
      "text/plain": [
       "array(['setosa', 'versicolor', 'virginica'], dtype='<U10')"
      ]
     },
     "execution_count": 17,
     "metadata": {},
     "output_type": "execute_result"
    }
   ],
   "source": [
    "#target_names: 정답값에 대한 설명\n",
    "iris['target_names']"
   ]
  },
  {
   "cell_type": "code",
   "execution_count": 26,
   "id": "ecbe81d8",
   "metadata": {},
   "outputs": [],
   "source": [
    "#train : 학습\n",
    "#test : 테스트\n",
    "# x : 데이터\n",
    "# y : 정답\n",
    "from sklearn.model_selection import train_test_split\n",
    "train_test_split(iris.data,iris.target)\n",
    "x_train, x_test, y_train, y_test = train_test_split(iris.data,iris.target)"
   ]
  },
  {
   "cell_type": "code",
   "execution_count": 32,
   "id": "ebc33136",
   "metadata": {},
   "outputs": [
    {
     "data": {
      "text/plain": [
       "array([1, 2, 0, 1, 1, 0, 0, 1, 2, 1, 2, 0, 0, 1, 0, 0, 1, 1, 0, 2, 2, 2,\n",
       "       1, 1, 2, 0, 1, 1, 0, 2, 2, 0, 2, 1, 0, 0, 2, 2, 0, 0, 1, 0, 2, 1,\n",
       "       2, 0, 0, 2, 0, 0, 1, 0, 0, 2, 2, 1, 2, 0, 1, 1, 0, 1, 0, 2, 2, 0,\n",
       "       0, 1, 0, 1, 0, 1, 2, 2, 0, 0, 0, 1, 2, 2, 2, 1, 2, 2, 0, 0, 1, 1,\n",
       "       0, 1, 1, 2, 1, 1, 1, 2, 2, 1, 2, 1, 0, 2, 1, 0, 1, 1, 0, 2, 0, 1,\n",
       "       1, 1])"
      ]
     },
     "execution_count": 32,
     "metadata": {},
     "output_type": "execute_result"
    }
   ],
   "source": [
    "y_train"
   ]
  },
  {
   "cell_type": "code",
   "execution_count": 33,
   "id": "129c262a",
   "metadata": {},
   "outputs": [
    {
     "data": {
      "text/plain": [
       "array([5.5, 2.4, 3.8, 1.1])"
      ]
     },
     "execution_count": 33,
     "metadata": {},
     "output_type": "execute_result"
    }
   ],
   "source": [
    "x_train[0]"
   ]
  },
  {
   "cell_type": "code",
   "execution_count": 34,
   "id": "16e66c99",
   "metadata": {},
   "outputs": [
    {
     "data": {
      "text/plain": [
       "1"
      ]
     },
     "execution_count": 34,
     "metadata": {},
     "output_type": "execute_result"
    }
   ],
   "source": [
    "y_train[0]"
   ]
  },
  {
   "cell_type": "markdown",
   "id": "7d5fb9c3",
   "metadata": {},
   "source": [
    "## 직접 만드는 머신러닝 알고리즘"
   ]
  },
  {
   "cell_type": "code",
   "execution_count": 37,
   "id": "27dba545",
   "metadata": {},
   "outputs": [],
   "source": [
    "class koreaML():\n",
    "    def fit(self,x,y): #패턴 찾는 함수, 학습함수\n",
    "        print('학습종료')\n",
    "    def predict(self,x_test): #예측 함수\n",
    "        predic = []\n",
    "        for x in x_test:\n",
    "            predic.append(1)\n",
    "        return predic"
   ]
  },
  {
   "cell_type": "code",
   "execution_count": 39,
   "id": "68d1518e",
   "metadata": {},
   "outputs": [
    {
     "name": "stdout",
     "output_type": "stream",
     "text": [
      "학습종료\n"
     ]
    }
   ],
   "source": [
    "# 머신러닝 통해서 예측하기\n",
    "# 데이터 + 정답 = 패턴\n",
    "my_classifier = koreaML()\n",
    "\n",
    "#패턴 찾기\n",
    "#my_classifier.fit(데이터, 정답)\n",
    "my_classifier.fit(x_train,y_train)\n",
    "\n",
    "#예측하기\n",
    "#my_classifier.predict(검증용데이터)\n",
    "predictions = my_classifier.predict(x_test)"
   ]
  },
  {
   "cell_type": "code",
   "execution_count": 43,
   "id": "9232b5f5",
   "metadata": {},
   "outputs": [
    {
     "data": {
      "text/plain": [
       "0.2631578947368421"
      ]
     },
     "execution_count": 43,
     "metadata": {},
     "output_type": "execute_result"
    }
   ],
   "source": [
    "#예측 데이터(predictions)와 검증용정답 (y_test) 비교하기\n",
    "np.mean(predictions == y_test)\n"
   ]
  },
  {
   "cell_type": "code",
   "execution_count": null,
   "id": "59d52cfc",
   "metadata": {},
   "outputs": [],
   "source": []
  },
  {
   "cell_type": "markdown",
   "id": "5360c1eb",
   "metadata": {},
   "source": [
    "## 최근접 이웃 알고리즘을 이용한 머신러닝하기"
   ]
  },
  {
   "cell_type": "code",
   "execution_count": 45,
   "id": "b6fa354e",
   "metadata": {},
   "outputs": [],
   "source": [
    "from sklearn.neighbors import KNeighborsClassifier\n",
    "\n",
    "# 머신러닝 통해서 예측하기\n",
    "# 데이터 + 정답 = 패턴\n",
    "my_classifier = KNeighborsClassifier(n_neighbors=3)\n",
    "#패턴 찾기\n",
    "#my_classifier.fit(데이터, 정답)\n",
    "my_classifier.fit(x_train,y_train)\n",
    "\n",
    "#예측하기\n",
    "#my_classifier.predict(검증용데이터)\n",
    "predictions = my_classifier.predict(x_test)"
   ]
  },
  {
   "cell_type": "code",
   "execution_count": 46,
   "id": "07c6fb8c",
   "metadata": {},
   "outputs": [
    {
     "data": {
      "text/plain": [
       "0.9736842105263158"
      ]
     },
     "execution_count": 46,
     "metadata": {},
     "output_type": "execute_result"
    }
   ],
   "source": [
    "np.mean(predictions == y_test)"
   ]
  },
  {
   "cell_type": "code",
   "execution_count": null,
   "id": "915539e8",
   "metadata": {},
   "outputs": [],
   "source": []
  },
  {
   "cell_type": "code",
   "execution_count": 53,
   "id": "bd320dfd",
   "metadata": {},
   "outputs": [],
   "source": [
    "from sklearn import tree\n",
    "\n",
    "# 머신러닝 통해서 예측하기\n",
    "# 데이터 + 정답 = 패턴\n",
    "my_classifier = tree.DecisionTreeClassifier()\n",
    "#패턴 찾기\n",
    "#my_classifier.fit(데이터, 정답)\n",
    "my_classifier.fit(x_train,y_train)\n",
    "\n",
    "#예측하기\n",
    "#my_classifier.predict(검증용데이터)\n",
    "predictions = my_classifier.predict(x_test)\n",
    "  "
   ]
  },
  {
   "cell_type": "code",
   "execution_count": 54,
   "id": "ac04702b",
   "metadata": {},
   "outputs": [
    {
     "data": {
      "text/plain": [
       "0.9473684210526315"
      ]
     },
     "execution_count": 54,
     "metadata": {},
     "output_type": "execute_result"
    }
   ],
   "source": [
    "np.mean(predictions == y_test)"
   ]
  },
  {
   "cell_type": "code",
   "execution_count": null,
   "id": "8d937dba",
   "metadata": {},
   "outputs": [],
   "source": []
  },
  {
   "cell_type": "code",
   "execution_count": null,
   "id": "ae480c94",
   "metadata": {},
   "outputs": [],
   "source": []
  },
  {
   "cell_type": "code",
   "execution_count": null,
   "id": "61c661f4",
   "metadata": {},
   "outputs": [],
   "source": []
  },
  {
   "cell_type": "code",
   "execution_count": null,
   "id": "325f5d58",
   "metadata": {},
   "outputs": [],
   "source": []
  },
  {
   "cell_type": "code",
   "execution_count": null,
   "id": "405d61bf",
   "metadata": {},
   "outputs": [],
   "source": []
  },
  {
   "cell_type": "code",
   "execution_count": null,
   "id": "50e93936",
   "metadata": {},
   "outputs": [],
   "source": []
  },
  {
   "cell_type": "code",
   "execution_count": null,
   "id": "35865854",
   "metadata": {},
   "outputs": [],
   "source": []
  }
 ],
 "metadata": {
  "kernelspec": {
   "display_name": "Python 3 (ipykernel)",
   "language": "python",
   "name": "python3"
  },
  "language_info": {
   "codemirror_mode": {
    "name": "ipython",
    "version": 3
   },
   "file_extension": ".py",
   "mimetype": "text/x-python",
   "name": "python",
   "nbconvert_exporter": "python",
   "pygments_lexer": "ipython3",
   "version": "3.9.12"
  }
 },
 "nbformat": 4,
 "nbformat_minor": 5
}
