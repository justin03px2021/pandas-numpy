{
 "cells": [
  {
   "cell_type": "markdown",
   "id": "f822403d",
   "metadata": {},
   "source": [
    "# day05_02_basic"
   ]
  },
  {
   "cell_type": "markdown",
   "id": "d799479a",
   "metadata": {},
   "source": [
    "## 연산\n",
    "### 1. 사칙연산"
   ]
  },
  {
   "cell_type": "code",
   "execution_count": 3,
   "id": "8b8b0686",
   "metadata": {},
   "outputs": [
    {
     "name": "stdout",
     "output_type": "stream",
     "text": [
      "2\n",
      "4\n",
      "ab\n",
      "12\n",
      "[1, 2, 3, 4]\n"
     ]
    }
   ],
   "source": [
    "#더하기\n",
    "print(1+1)\n",
    "print(2+2)\n",
    "#붙이기\n",
    "print('a'+'b')\n",
    "print('1' + '2')\n",
    "\n",
    "#합치기\n",
    "list01 = [1,2]\n",
    "list02 = [3,4]\n",
    "print(list01 + list02)\n"
   ]
  },
  {
   "cell_type": "code",
   "execution_count": 9,
   "id": "cedaeac1",
   "metadata": {},
   "outputs": [
    {
     "name": "stdout",
     "output_type": "stream",
     "text": [
      "[1, 2, 1, 2]\n",
      "9\n",
      "1.5\n",
      "1\n",
      "1\n"
     ]
    }
   ],
   "source": [
    "#다른 사칙 연산들\n",
    "print(list01*2)\n",
    "print(3**2)\n",
    "print(3/2)\n",
    "print(3//2)\n",
    "print(3%2)"
   ]
  },
  {
   "cell_type": "markdown",
   "id": "b0dc8288",
   "metadata": {},
   "source": [
    "### 비교연산자\n",
    "* 결과 값이 무조건 논리형(참/거짓)입니다"
   ]
  },
  {
   "cell_type": "code",
   "execution_count": 14,
   "id": "d86a1a43",
   "metadata": {},
   "outputs": [
    {
     "name": "stdout",
     "output_type": "stream",
     "text": [
      "True\n",
      "True\n",
      "False\n"
     ]
    }
   ],
   "source": [
    "print(10 == 10)\n",
    "print('a' == 'a')\n",
    "print('a' == 'b')\n"
   ]
  },
  {
   "cell_type": "markdown",
   "id": "d7f549ef",
   "metadata": {},
   "source": [
    "### 논리연산자\n",
    "* and or not"
   ]
  },
  {
   "cell_type": "code",
   "execution_count": 15,
   "id": "fdf56930",
   "metadata": {},
   "outputs": [
    {
     "name": "stdout",
     "output_type": "stream",
     "text": [
      "and 연산자는 조건이 모두 참이여야 참\n",
      "False\n",
      "True\n"
     ]
    }
   ],
   "source": [
    "print('and 연산자는 조건이 모두 참이여야 참')\n",
    "print(True and False)\n",
    "print(True and True)"
   ]
  },
  {
   "cell_type": "code",
   "execution_count": 17,
   "id": "4a9fd5bb",
   "metadata": {},
   "outputs": [
    {
     "name": "stdout",
     "output_type": "stream",
     "text": [
      "or 연산자는 조건중 하나라도 참이면 참\n",
      "True\n",
      "True\n"
     ]
    }
   ],
   "source": [
    "print('or 연산자는 조건중 하나라도 참이면 참')\n",
    "print(True or False)\n",
    "print(True or True)"
   ]
  },
  {
   "cell_type": "code",
   "execution_count": 19,
   "id": "a3d4076a",
   "metadata": {},
   "outputs": [
    {
     "name": "stdout",
     "output_type": "stream",
     "text": [
      "False\n",
      "True\n"
     ]
    }
   ],
   "source": [
    "print(not True)\n",
    "print(not False)"
   ]
  },
  {
   "cell_type": "markdown",
   "id": "77814000",
   "metadata": {},
   "source": [
    "### 조건문\n",
    "- 참인지, 거짓인지에 따라서 프로그래밍의 흐름을 달라지게 하는 기법\n",
    "- 프로그래밍의 메인 기법 중 하나\n",
    "\n"
   ]
  },
  {
   "cell_type": "code",
   "execution_count": 22,
   "id": "1a3df316",
   "metadata": {},
   "outputs": [
    {
     "name": "stdout",
     "output_type": "stream",
     "text": [
      "not bigger than 9\n"
     ]
    }
   ],
   "source": [
    "a = 9\n",
    "if a > 9:\n",
    "    print('bigger')\n",
    "else:\n",
    "    print('not bigger than 9')"
   ]
  },
  {
   "cell_type": "code",
   "execution_count": 24,
   "id": "3999b140",
   "metadata": {},
   "outputs": [
    {
     "name": "stdout",
     "output_type": "stream",
     "text": [
      "홀수\n"
     ]
    }
   ],
   "source": [
    "#실습하기, b의 값이 짝수인지 홀수인지 검사ㅏ는 조건문을 만들어주세요\n",
    "#- b가 짝수이면 짝수\n",
    "# b가 홀수이면 홀수\n",
    "\n",
    "b = 165897\n",
    "\n",
    "if b % 2 == 0:\n",
    "    print('짝수')\n",
    "else:\n",
    "    print('홀수')"
   ]
  },
  {
   "cell_type": "markdown",
   "id": "b363a98c",
   "metadata": {},
   "source": [
    "### 파이썬의 독특한 조건문\n",
    "* x in object 조건문\n",
    "* object 리스트, 문자열등등이 위치할 수 있다."
   ]
  },
  {
   "cell_type": "code",
   "execution_count": 26,
   "id": "4536aadd",
   "metadata": {},
   "outputs": [
    {
     "name": "stdout",
     "output_type": "stream",
     "text": [
      "포함\n"
     ]
    }
   ],
   "source": [
    "#만일 2가 [1,2,3,4] 중에 있으면 포함되어 있다 출력\n",
    "a = [1,2,3,4]\n",
    "if 2 in [1,2,3,4]:\n",
    "    print('포함')"
   ]
  },
  {
   "cell_type": "code",
   "execution_count": 32,
   "id": "73903b0d",
   "metadata": {},
   "outputs": [
    {
     "name": "stdout",
     "output_type": "stream",
     "text": [
      "낫 포함\n"
     ]
    }
   ],
   "source": [
    "#check if 't' is in korea\n",
    "a = 'korea'\n",
    "if 't' in a:\n",
    "    print('포함')\n",
    "else:\n",
    "    print('낫 포함')"
   ]
  },
  {
   "cell_type": "code",
   "execution_count": 37,
   "id": "f22156c3",
   "metadata": {},
   "outputs": [
    {
     "name": "stdout",
     "output_type": "stream",
     "text": [
      "데이터 분석 배우자\n"
     ]
    }
   ],
   "source": [
    "lecture = ['bigdata' ,'R']\n",
    "\n",
    "if 'R' in lecture:\n",
    "    print('데이터 분석 배우자')\n",
    "elif 'bigdata' in lecture:\n",
    "    print('프로그래밍 배우자')\n",
    "else: \n",
    "    print('없는 강의나 강의 개설을 요청하자')"
   ]
  },
  {
   "cell_type": "markdown",
   "id": "34bf6408",
   "metadata": {},
   "source": [
    "### 반복문\n",
    "- for 운동장 100바퀴 뛰어야지\n",
    "- while 10kg 빠질 때까지 뛰어야지\n"
   ]
  },
  {
   "cell_type": "code",
   "execution_count": 46,
   "id": "04b5db95",
   "metadata": {},
   "outputs": [
    {
     "name": "stdout",
     "output_type": "stream",
     "text": [
      "2\n",
      "4\n",
      "6\n",
      "8\n"
     ]
    }
   ],
   "source": [
    "list01 = [1,2,3,4]\n",
    "for i in list01:\n",
    "    print(i*2)"
   ]
  },
  {
   "cell_type": "code",
   "execution_count": 48,
   "id": "675b3758",
   "metadata": {},
   "outputs": [
    {
     "name": "stdout",
     "output_type": "stream",
     "text": [
      "홀수\n",
      "짝수\n",
      "홀수\n",
      "짝수\n"
     ]
    }
   ],
   "source": [
    "#실습하기 list01의 모든 방을 검사하여 짝수면 짝수, 홀수면 홀수라고 출력해주세요\n",
    "for i in list01:\n",
    "    if i % 2 == 0:\n",
    "        print('짝수')\n",
    "    else:\n",
    "        print('홀수')\n"
   ]
  },
  {
   "cell_type": "code",
   "execution_count": 51,
   "id": "8a948939",
   "metadata": {},
   "outputs": [
    {
     "name": "stdout",
     "output_type": "stream",
     "text": [
      "0\n",
      "1\n",
      "2\n",
      "3\n",
      "4\n"
     ]
    }
   ],
   "source": [
    "#z가 4보다 작을 때까지 계속 반복하기\n",
    "z = 0\n",
    "while z<=4:\n",
    "    print(z)\n",
    "    z += 1"
   ]
  },
  {
   "cell_type": "code",
   "execution_count": 57,
   "id": "3dcb3b96",
   "metadata": {},
   "outputs": [
    {
     "name": "stdout",
     "output_type": "stream",
     "text": [
      "\n",
      "1. ADD\n",
      "2. DEL\n",
      "3. LIST\n",
      "4. QUIT\n",
      "\n",
      "1\n",
      "\n",
      "1. ADD\n",
      "2. DEL\n",
      "3. LIST\n",
      "4. QUIT\n",
      "\n",
      "2\n",
      "\n",
      "1. ADD\n",
      "2. DEL\n",
      "3. LIST\n",
      "4. QUIT\n",
      "\n",
      "3\n",
      "\n",
      "1. ADD\n",
      "2. DEL\n",
      "3. LIST\n",
      "4. QUIT\n",
      "\n",
      "4\n"
     ]
    }
   ],
   "source": [
    "#while 이용하여 사용자가 4번을 누르기 전까지 계속 반복\n",
    "i = 0\n",
    "prompt = '''\n",
    "1. ADD\n",
    "2. DEL\n",
    "3. LIST\n",
    "4. QUIT\n",
    "'''\n",
    "\n",
    "while i != 4:\n",
    "    print(prompt)\n",
    "    i = int(input())\n"
   ]
  },
  {
   "cell_type": "code",
   "execution_count": null,
   "id": "a94f3051",
   "metadata": {},
   "outputs": [],
   "source": []
  },
  {
   "cell_type": "markdown",
   "id": "959b88ba",
   "metadata": {},
   "source": [
    "### 함수 (function)\n"
   ]
  },
  {
   "cell_type": "code",
   "execution_count": 60,
   "id": "c566ecad",
   "metadata": {},
   "outputs": [
    {
     "data": {
      "text/plain": [
       "4"
      ]
     },
     "execution_count": 60,
     "metadata": {},
     "output_type": "execute_result"
    }
   ],
   "source": [
    "list01 = [1,2,3,4]\n",
    "len(list01)"
   ]
  },
  {
   "cell_type": "code",
   "execution_count": 62,
   "id": "6d731abd",
   "metadata": {},
   "outputs": [
    {
     "data": {
      "text/plain": [
       "4"
      ]
     },
     "execution_count": 62,
     "metadata": {},
     "output_type": "execute_result"
    }
   ],
   "source": [
    "max(list01)"
   ]
  },
  {
   "cell_type": "code",
   "execution_count": 66,
   "id": "698ec4af",
   "metadata": {},
   "outputs": [
    {
     "name": "stdout",
     "output_type": "stream",
     "text": [
      "3\n",
      "3.1\n",
      "3.14\n"
     ]
    }
   ],
   "source": [
    "#반올림\n",
    "a = 3.142588\n",
    "a\n",
    "print(round(a))\n",
    "print(round(a,1))\n",
    "print(round(a,2))"
   ]
  },
  {
   "cell_type": "code",
   "execution_count": 68,
   "id": "513bfb63",
   "metadata": {},
   "outputs": [
    {
     "data": {
      "text/plain": [
       "'b'"
      ]
     },
     "execution_count": 68,
     "metadata": {},
     "output_type": "execute_result"
    }
   ],
   "source": [
    "#문자 소문자 대문자 변화\n",
    "'a'.upper()\n",
    "'B'.lower()"
   ]
  },
  {
   "cell_type": "code",
   "execution_count": 70,
   "id": "fc555a09",
   "metadata": {},
   "outputs": [
    {
     "data": {
      "text/plain": [
       "'12'"
      ]
     },
     "execution_count": 70,
     "metadata": {},
     "output_type": "execute_result"
    }
   ],
   "source": [
    "str(1) + '2' "
   ]
  },
  {
   "cell_type": "code",
   "execution_count": 72,
   "id": "c82b8faf",
   "metadata": {},
   "outputs": [
    {
     "data": {
      "text/plain": [
       "3"
      ]
     },
     "execution_count": 72,
     "metadata": {},
     "output_type": "execute_result"
    }
   ],
   "source": [
    "int('1') + 2"
   ]
  },
  {
   "cell_type": "code",
   "execution_count": 75,
   "id": "673bb2dc",
   "metadata": {},
   "outputs": [
    {
     "name": "stdout",
     "output_type": "stream",
     "text": [
      "3\n"
     ]
    }
   ],
   "source": [
    "# 'i am a boy and girl' 에서 a가 몇번 출연하는지 횟수를 for if 문으로 작성하세요\n",
    "a = 'i am a boy and girl'\n",
    "cnt = 0\n",
    "for i in a:\n",
    "    if i == 'a':\n",
    "        #print('a 나와따')\n",
    "        cnt += 1\n",
    "print(cnt)\n",
    "        "
   ]
  },
  {
   "cell_type": "markdown",
   "id": "803701cb",
   "metadata": {},
   "source": [
    "### 커스텀 함수"
   ]
  },
  {
   "cell_type": "code",
   "execution_count": 81,
   "id": "e9d88019",
   "metadata": {},
   "outputs": [
    {
     "data": {
      "text/plain": [
       "'짝'"
      ]
     },
     "execution_count": 81,
     "metadata": {},
     "output_type": "execute_result"
    }
   ],
   "source": [
    "# 홀짝을 판단하는 함수\n",
    "def machine(n):\n",
    "    if n % 2 == 0:\n",
    "        return('짝')\n",
    "    else:\n",
    "        return('홀')\n",
    "machine(2)"
   ]
  },
  {
   "cell_type": "code",
   "execution_count": 84,
   "id": "0d9f29d8",
   "metadata": {},
   "outputs": [
    {
     "name": "stdout",
     "output_type": "stream",
     "text": [
      "홀\n",
      "짝\n",
      "홀\n",
      "짝\n"
     ]
    }
   ],
   "source": [
    "for i in list01:\n",
    "    print(machine(i))"
   ]
  },
  {
   "cell_type": "markdown",
   "id": "1d236eb7",
   "metadata": {},
   "source": [
    "### lambda는 이름이 없는 함수 익명함수"
   ]
  },
  {
   "cell_type": "code",
   "execution_count": 87,
   "id": "2b86dce9",
   "metadata": {},
   "outputs": [
    {
     "data": {
      "text/plain": [
       "2"
      ]
     },
     "execution_count": 87,
     "metadata": {},
     "output_type": "execute_result"
    }
   ],
   "source": [
    "# (lambda 변수 : 변수)(값)\n",
    "(lambda x: x)(2)"
   ]
  },
  {
   "cell_type": "code",
   "execution_count": 89,
   "id": "30e095e3",
   "metadata": {},
   "outputs": [
    {
     "data": {
      "text/plain": [
       "4"
      ]
     },
     "execution_count": 89,
     "metadata": {},
     "output_type": "execute_result"
    }
   ],
   "source": [
    "(lambda x: x*2)(2)"
   ]
  },
  {
   "cell_type": "code",
   "execution_count": 91,
   "id": "481013a0",
   "metadata": {},
   "outputs": [
    {
     "data": {
      "text/plain": [
       "True"
      ]
     },
     "execution_count": 91,
     "metadata": {},
     "output_type": "execute_result"
    }
   ],
   "source": [
    "(lambda x: x%2==0)(2)"
   ]
  },
  {
   "cell_type": "code",
   "execution_count": 93,
   "id": "07c27f4f",
   "metadata": {},
   "outputs": [
    {
     "data": {
      "text/plain": [
       "5"
      ]
     },
     "execution_count": 93,
     "metadata": {},
     "output_type": "execute_result"
    }
   ],
   "source": [
    "(lambda x,y: x+y)(2,3)"
   ]
  },
  {
   "cell_type": "markdown",
   "id": "f83b66d4",
   "metadata": {},
   "source": [
    "## 외장함수"
   ]
  },
  {
   "cell_type": "code",
   "execution_count": 95,
   "id": "30a834d4",
   "metadata": {},
   "outputs": [],
   "source": [
    "import datetime"
   ]
  },
  {
   "cell_type": "code",
   "execution_count": 143,
   "id": "4a020631",
   "metadata": {},
   "outputs": [],
   "source": [
    "dt = datetime.datetime.now()"
   ]
  },
  {
   "cell_type": "code",
   "execution_count": 153,
   "id": "8ddcff4e",
   "metadata": {},
   "outputs": [
    {
     "data": {
      "text/plain": [
       "2022"
      ]
     },
     "execution_count": 153,
     "metadata": {},
     "output_type": "execute_result"
    }
   ],
   "source": [
    "dt.month\n",
    "dt.day\n",
    "dt.year"
   ]
  },
  {
   "cell_type": "code",
   "execution_count": 160,
   "id": "9b838bca",
   "metadata": {},
   "outputs": [
    {
     "data": {
      "text/plain": [
       "'08-11-2022'"
      ]
     },
     "execution_count": 160,
     "metadata": {},
     "output_type": "execute_result"
    }
   ],
   "source": [
    "dt.strftime('%m%d%Y')\n",
    "dt.strftime('%m-%d-%Y')"
   ]
  },
  {
   "cell_type": "code",
   "execution_count": 162,
   "id": "cc7bc99b",
   "metadata": {},
   "outputs": [
    {
     "name": "stdout",
     "output_type": "stream",
     "text": [
      "15:53:27\n"
     ]
    }
   ],
   "source": [
    "print(dt.strftime('%H:%M:%S'))"
   ]
  },
  {
   "cell_type": "code",
   "execution_count": 167,
   "id": "58619793",
   "metadata": {},
   "outputs": [
    {
     "data": {
      "text/plain": [
       "datetime.datetime(2022, 8, 12, 15, 53, 27, 782013)"
      ]
     },
     "execution_count": 167,
     "metadata": {},
     "output_type": "execute_result"
    }
   ],
   "source": [
    "#1 day를 생성하기\n",
    "dt + datetime.timedelta(days = 1)"
   ]
  },
  {
   "cell_type": "code",
   "execution_count": 175,
   "id": "9d0db1c7",
   "metadata": {},
   "outputs": [
    {
     "data": {
      "text/plain": [
       "datetime.datetime(2022, 8, 4, 15, 53, 27, 782013)"
      ]
     },
     "execution_count": 175,
     "metadata": {},
     "output_type": "execute_result"
    }
   ],
   "source": [
    "#dt에서 1주일 전 출력\n",
    "dt - datetime.timedelta(days = 7)\n",
    "dt + datetime.timedelta(days = -7)\n",
    "dt - datetime.timedelta(weeks = 1)\n",
    "\n"
   ]
  },
  {
   "cell_type": "code",
   "execution_count": null,
   "id": "373f7972",
   "metadata": {},
   "outputs": [],
   "source": []
  }
 ],
 "metadata": {
  "kernelspec": {
   "display_name": "Python 3 (ipykernel)",
   "language": "python",
   "name": "python3"
  },
  "language_info": {
   "codemirror_mode": {
    "name": "ipython",
    "version": 3
   },
   "file_extension": ".py",
   "mimetype": "text/x-python",
   "name": "python",
   "nbconvert_exporter": "python",
   "pygments_lexer": "ipython3",
   "version": "3.9.12"
  }
 },
 "nbformat": 4,
 "nbformat_minor": 5
}
