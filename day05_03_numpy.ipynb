{
 "cells": [
  {
   "cell_type": "markdown",
   "id": "43d52eee",
   "metadata": {},
   "source": [
    "# day05_03_numpy\n",
    "* 많은 데이터를 하나의 변수에 넣고 데이터를 관리하면 속도도 느리고, 메모리를 많이 차지 함\n",
    "* 이떄 리스트에 비해 배열은 더 적은 메모리로 더 빠른 속도로 동작 가능\n",
    "\n",
    "##### 배열의 특징\n",
    "* 모든 데이터 유형은 전부 같은 데이터 유형\n",
    "* 원소의 갯수 변경이 불가능\n"
   ]
  },
  {
   "cell_type": "code",
   "execution_count": 3,
   "id": "10905fbd",
   "metadata": {},
   "outputs": [],
   "source": [
    "import numpy as np"
   ]
  },
  {
   "cell_type": "code",
   "execution_count": 16,
   "id": "89a6d8b1",
   "metadata": {},
   "outputs": [
    {
     "data": {
      "text/plain": [
       "1"
      ]
     },
     "execution_count": 16,
     "metadata": {},
     "output_type": "execute_result"
    }
   ],
   "source": [
    "#numpy를 이용하여 배열\n",
    "a = np.array([1,2,3,4])\n",
    "a[0]"
   ]
  },
  {
   "cell_type": "code",
   "execution_count": 17,
   "id": "8695565f",
   "metadata": {},
   "outputs": [
    {
     "data": {
      "text/plain": [
       "array([2, 3, 4, 5])"
      ]
     },
     "execution_count": 17,
     "metadata": {},
     "output_type": "execute_result"
    }
   ],
   "source": [
    "#배열 연산하기\n",
    "a + 1"
   ]
  },
  {
   "cell_type": "code",
   "execution_count": 9,
   "id": "0b4e56a6",
   "metadata": {},
   "outputs": [
    {
     "data": {
      "text/plain": [
       "1"
      ]
     },
     "execution_count": 9,
     "metadata": {},
     "output_type": "execute_result"
    }
   ],
   "source": [
    "b = [1,2,3,4]\n",
    "b[0]"
   ]
  },
  {
   "cell_type": "code",
   "execution_count": 18,
   "id": "91a2a143",
   "metadata": {},
   "outputs": [
    {
     "name": "stdout",
     "output_type": "stream",
     "text": [
      "2\n",
      "3\n",
      "4\n",
      "5\n"
     ]
    }
   ],
   "source": [
    "for i in b:\n",
    "    print(i+1)"
   ]
  },
  {
   "cell_type": "code",
   "execution_count": 20,
   "id": "b7a5365d",
   "metadata": {},
   "outputs": [
    {
     "data": {
      "text/plain": [
       "array([2, 4, 6, 8])"
      ]
     },
     "execution_count": 20,
     "metadata": {},
     "output_type": "execute_result"
    }
   ],
   "source": [
    "a * 2"
   ]
  },
  {
   "cell_type": "code",
   "execution_count": 22,
   "id": "cc0176f5",
   "metadata": {},
   "outputs": [
    {
     "data": {
      "text/plain": [
       "array([ True, False, False, False])"
      ]
     },
     "execution_count": 22,
     "metadata": {},
     "output_type": "execute_result"
    }
   ],
   "source": [
    "a == 1"
   ]
  },
  {
   "cell_type": "code",
   "execution_count": 26,
   "id": "f99513bc",
   "metadata": {},
   "outputs": [],
   "source": [
    "#특정 갯수의 배열 만들기\n",
    "np.arange(100) # 0 부터 100전까지\n",
    "c = np.arange(1,100) # 1 부터 100전까지\n"
   ]
  },
  {
   "cell_type": "code",
   "execution_count": 28,
   "id": "f2fea4d1",
   "metadata": {},
   "outputs": [
    {
     "data": {
      "text/plain": [
       "array([ 1,  2,  3,  4,  5,  6,  7,  8,  9, 10])"
      ]
     },
     "execution_count": 28,
     "metadata": {},
     "output_type": "execute_result"
    }
   ],
   "source": [
    "c[0:10]"
   ]
  },
  {
   "cell_type": "code",
   "execution_count": 30,
   "id": "c0df7acb",
   "metadata": {},
   "outputs": [
    {
     "data": {
      "text/plain": [
       "array([ 3,  5, 31])"
      ]
     },
     "execution_count": 30,
     "metadata": {},
     "output_type": "execute_result"
    }
   ],
   "source": [
    "#c 에서  나온 2, 4, 30번 방 조회하기\n",
    "c[[2,4,30]]"
   ]
  },
  {
   "cell_type": "code",
   "execution_count": 34,
   "id": "7cfbe34b",
   "metadata": {},
   "outputs": [
    {
     "data": {
      "text/plain": [
       "array([ 2,  4,  6,  8, 10, 12, 14, 16, 18, 20, 22, 24, 26, 28, 30, 32, 34,\n",
       "       36, 38, 40, 42, 44, 46, 48, 50, 52, 54, 56, 58, 60, 62, 64, 66, 68,\n",
       "       70, 72, 74, 76, 78, 80, 82, 84, 86, 88, 90, 92, 94, 96, 98])"
      ]
     },
     "execution_count": 34,
     "metadata": {},
     "output_type": "execute_result"
    }
   ],
   "source": [
    "#c에서 짝수인 방만 조회\n",
    "c[c%2==0]"
   ]
  },
  {
   "cell_type": "code",
   "execution_count": 39,
   "id": "af3d953b",
   "metadata": {},
   "outputs": [
    {
     "name": "stdout",
     "output_type": "stream",
     "text": [
      "(3,)\n",
      "(2, 3)\n"
     ]
    }
   ],
   "source": [
    "#모양확인하기\n",
    "a = np.array([1,2,3])\n",
    "print(a.shape)\n",
    "a = np.array([[1,2,3],[4,5,6]])\n",
    "print(a.shape) #2행 3열  "
   ]
  },
  {
   "cell_type": "code",
   "execution_count": 40,
   "id": "3fdde901",
   "metadata": {},
   "outputs": [
    {
     "data": {
      "text/plain": [
       "6"
      ]
     },
     "execution_count": 40,
     "metadata": {},
     "output_type": "execute_result"
    }
   ],
   "source": [
    "a[1,2]"
   ]
  }
 ],
 "metadata": {
  "kernelspec": {
   "display_name": "Python 3 (ipykernel)",
   "language": "python",
   "name": "python3"
  },
  "language_info": {
   "codemirror_mode": {
    "name": "ipython",
    "version": 3
   },
   "file_extension": ".py",
   "mimetype": "text/x-python",
   "name": "python",
   "nbconvert_exporter": "python",
   "pygments_lexer": "ipython3",
   "version": "3.9.12"
  }
 },
 "nbformat": 4,
 "nbformat_minor": 5
}
