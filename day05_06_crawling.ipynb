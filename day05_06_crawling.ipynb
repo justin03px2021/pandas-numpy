{
 "cells": [
  {
   "cell_type": "code",
   "execution_count": 2,
   "id": "33bc86dd",
   "metadata": {},
   "outputs": [],
   "source": [
    "from bs4 import BeautifulSoup\n",
    "import requests as req"
   ]
  },
  {
   "cell_type": "code",
   "execution_count": 3,
   "id": "f28ccc59",
   "metadata": {},
   "outputs": [],
   "source": [
    "#http://big-data-insight.com/article?id=41\n",
    "#http://big-data-insight.com/article?id=42\n",
    "#http://big-data-insight.com/article?id=43"
   ]
  },
  {
   "cell_type": "code",
   "execution_count": 11,
   "id": "a6bc4513",
   "metadata": {},
   "outputs": [
    {
     "name": "stdout",
     "output_type": "stream",
     "text": [
      "2020년 9월 세일기간 제일 많이 검색된 드럭스토어는?\n",
      "‘홈트’ 전성시대…요가복 인기 브랜드 봤더니\n",
      "라면 브랜드 경쟁력 '신라면' 독주... 불닭볶음면, 진라면 뒤이어\n"
     ]
    }
   ],
   "source": [
    "urls = ['41','42','43']\n",
    "for url in urls:\n",
    "    response = req.get(\"http://big-data-insight.com/article?id=\" + url)\n",
    "    html = BeautifulSoup(response.text)\n",
    "    data = html.select('#box > div.details_1 > h2')\n",
    "    print(data[0].text)"
   ]
  },
  {
   "cell_type": "code",
   "execution_count": null,
   "id": "a15d6eef",
   "metadata": {},
   "outputs": [],
   "source": []
  }
 ],
 "metadata": {
  "kernelspec": {
   "display_name": "Python 3 (ipykernel)",
   "language": "python",
   "name": "python3"
  },
  "language_info": {
   "codemirror_mode": {
    "name": "ipython",
    "version": 3
   },
   "file_extension": ".py",
   "mimetype": "text/x-python",
   "name": "python",
   "nbconvert_exporter": "python",
   "pygments_lexer": "ipython3",
   "version": "3.9.12"
  }
 },
 "nbformat": 4,
 "nbformat_minor": 5
}
