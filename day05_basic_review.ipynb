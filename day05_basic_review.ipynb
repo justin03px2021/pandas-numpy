{
 "cells": [
  {
   "cell_type": "markdown",
   "id": "d995ea3b",
   "metadata": {},
   "source": [
    "# 주석문\n",
    "\n",
    "* 주석문은 샵으로 시작\n",
    "\n"
   ]
  },
  {
   "cell_type": "markdown",
   "id": "6494a38b",
   "metadata": {},
   "source": [
    "### 자주 사용하는 키 \n",
    "* a는 위로 1셀 추가\n",
    "* b는 아래로 1셀 추가\n",
    "* x는 셀 삭제\n",
    "* ctrl + enter: 현재 셀 실행\n",
    "* alt/opt + enter: 현재 셀 실행하고, 아래 셀 추가\n",
    "* 숫자 1- 5는 cell을 마크다운으로 변경"
   ]
  },
  {
   "cell_type": "code",
   "execution_count": 6,
   "id": "7c4d3fba",
   "metadata": {},
   "outputs": [
    {
     "data": {
      "text/plain": [
       "'hello world'"
      ]
     },
     "execution_count": 6,
     "metadata": {},
     "output_type": "execute_result"
    }
   ],
   "source": [
    "\"hello world\""
   ]
  },
  {
   "cell_type": "code",
   "execution_count": 8,
   "id": "748d2b78",
   "metadata": {},
   "outputs": [
    {
     "data": {
      "text/plain": [
       "'5 .테이터 자체를 실행하는 것'"
      ]
     },
     "execution_count": 8,
     "metadata": {},
     "output_type": "execute_result"
    }
   ],
   "source": [
    " #python에서 코드를 출력하는 방법\n",
    "# 단, 제일 마지막에 실행되는 1개의 데이터만 출력\n",
    "'1. 테이터 자체를 실행하는 것'\n",
    "'2 .테이터 자체를 실행하는 것'\n",
    "'3. 테이터 자체를 실행하는 것'\n",
    "'4. 테이터 자체를 실행하는 것'\n",
    "'5 .테이터 자체를 실행하는 것'"
   ]
  },
  {
   "cell_type": "code",
   "execution_count": 14,
   "id": "387de4b2",
   "metadata": {},
   "outputs": [
    {
     "name": "stdout",
     "output_type": "stream",
     "text": [
      "1. print를 이용 출력하기\n",
      "2. print를 이용 출력하기\n",
      "3. print를 이용 출력하기\n"
     ]
    }
   ],
   "source": [
    "print('1. print를 이용 출력하기')\n",
    "print('2. print를 이용 출력하기')\n",
    "print('3. print를 이용 출력하기')"
   ]
  },
  {
   "cell_type": "markdown",
   "id": "b0f64050",
   "metadata": {},
   "source": [
    "### data_type\n",
    "* 숫자형(정수)\n",
    "* 숫자형(실수)\n",
    "* 문자형\n",
    "* 논리형"
   ]
  },
  {
   "cell_type": "markdown",
   "id": "9918309f",
   "metadata": {},
   "source": [
    "### 숫자형 "
   ]
  },
  {
   "cell_type": "code",
   "execution_count": 17,
   "id": "dbae1bed",
   "metadata": {},
   "outputs": [
    {
     "name": "stdout",
     "output_type": "stream",
     "text": [
      "0\n"
     ]
    }
   ],
   "source": [
    "#정수형\n",
    "\n",
    "123\n",
    "-123\n",
    "print(123-123)"
   ]
  },
  {
   "cell_type": "code",
   "execution_count": 22,
   "id": "e9e613cb",
   "metadata": {},
   "outputs": [
    {
     "name": "stdout",
     "output_type": "stream",
     "text": [
      "23.02300000000001\n"
     ]
    }
   ],
   "source": [
    "#실수형\n",
    "123.213\n",
    "100.100\n",
    "print(123.123-100.100)\n",
    "#23.023이 아님!"
   ]
  },
  {
   "cell_type": "markdown",
   "id": "b4bf3b67",
   "metadata": {},
   "source": [
    "### 문자형"
   ]
  },
  {
   "cell_type": "code",
   "execution_count": 24,
   "id": "27621192",
   "metadata": {},
   "outputs": [
    {
     "data": {
      "text/plain": [
       "'문자는 작은/큰 따옴표로 감쌉니다'"
      ]
     },
     "execution_count": 24,
     "metadata": {},
     "output_type": "execute_result"
    }
   ],
   "source": [
    "'문자는 작은/큰 따옴표로 감쌉니다'"
   ]
  },
  {
   "cell_type": "code",
   "execution_count": 26,
   "id": "066db3e3",
   "metadata": {},
   "outputs": [
    {
     "data": {
      "text/plain": [
       "'\\n따옴표 3개를 이요아면 가독성이 좋게 멀티라인으로 작성이 가능\\n가능'"
      ]
     },
     "execution_count": 26,
     "metadata": {},
     "output_type": "execute_result"
    }
   ],
   "source": [
    "'''\n",
    "따옴표 3개를 이요아면 가독성이 좋게 멀티라인으로 작성이 가능\n",
    "가능\n",
    "'''"
   ]
  },
  {
   "cell_type": "code",
   "execution_count": 28,
   "id": "b62d694a",
   "metadata": {},
   "outputs": [
    {
     "name": "stdout",
     "output_type": "stream",
     "text": [
      "\n",
      "따옴표 3개를 이요아면 가독성이 좋게 멀티라인으로 작성이 가능\n",
      "\n"
     ]
    }
   ],
   "source": [
    "print(\n",
    "'''\n",
    "따옴표 3개를 이요아면 가독성이 좋게 멀티라인으로 작성이 가능\n",
    "'''\n",
    ")"
   ]
  },
  {
   "cell_type": "code",
   "execution_count": 30,
   "id": "f5be91ed",
   "metadata": {},
   "outputs": [
    {
     "data": {
      "text/plain": [
       "'korea bigdate'"
      ]
     },
     "execution_count": 30,
     "metadata": {},
     "output_type": "execute_result"
    }
   ],
   "source": [
    "#문자열\n",
    "# - python은 배열이 존재하지 않습니다\n",
    "# - 단, 문자만 마치 배열처럼 동작이 가능하게 되어있습니다\n",
    "a = 'korea bigdate'\n",
    "a"
   ]
  },
  {
   "cell_type": "code",
   "execution_count": 32,
   "id": "c636a2bc",
   "metadata": {},
   "outputs": [
    {
     "data": {
      "text/plain": [
       "'r'"
      ]
     },
     "execution_count": 32,
     "metadata": {},
     "output_type": "execute_result"
    }
   ],
   "source": [
    "# a변수에서 3번쨰 방의 값을 출력하기\n",
    "a[2]"
   ]
  },
  {
   "cell_type": "code",
   "execution_count": 33,
   "id": "ed63616f",
   "metadata": {},
   "outputs": [
    {
     "data": {
      "text/plain": [
       "'aaaaaaaaaaaaaaaaaaaaaaaaaaaaaaaaaaaaaaaaaaaaaaaaaa'"
      ]
     },
     "execution_count": 33,
     "metadata": {},
     "output_type": "execute_result"
    }
   ],
   "source": [
    "#문자에 * 연산하기\n",
    "'a' * 50"
   ]
  },
  {
   "cell_type": "markdown",
   "id": "a4b5fe36",
   "metadata": {},
   "source": [
    "### 논리형"
   ]
  },
  {
   "cell_type": "code",
   "execution_count": 34,
   "id": "7a2e9948",
   "metadata": {},
   "outputs": [
    {
     "data": {
      "text/plain": [
       "True"
      ]
     },
     "execution_count": 34,
     "metadata": {},
     "output_type": "execute_result"
    }
   ],
   "source": [
    "True"
   ]
  },
  {
   "cell_type": "code",
   "execution_count": 35,
   "id": "67925a7e",
   "metadata": {},
   "outputs": [
    {
     "data": {
      "text/plain": [
       "False"
      ]
     },
     "execution_count": 35,
     "metadata": {},
     "output_type": "execute_result"
    }
   ],
   "source": [
    "False"
   ]
  },
  {
   "cell_type": "code",
   "execution_count": 40,
   "id": "6b35e603",
   "metadata": {},
   "outputs": [
    {
     "name": "stdout",
     "output_type": "stream",
     "text": [
      "False\n",
      "True\n",
      "True\n",
      "False\n"
     ]
    }
   ],
   "source": [
    "print(True == False)\n",
    "print(0 == False)\n",
    "print(1 == True)\n",
    "print('True' == True)"
   ]
  },
  {
   "cell_type": "markdown",
   "id": "ef1ba150",
   "metadata": {},
   "source": [
    "## 자료구조\n",
    "* 자료형은 데이터가 어떻게 생겼는가에 대한 이야기\n",
    "* 자료구조는 데이터를 어떻게 쌓을 것인 가에 대한 이야기"
   ]
  },
  {
   "cell_type": "markdown",
   "id": "96a879b4",
   "metadata": {},
   "source": [
    "### 리스트\n",
    "* 다른 데이터형을 동시에 다룰 수 있는 구조\n",
    "* []는 리스트를 만듭니다."
   ]
  },
  {
   "cell_type": "code",
   "execution_count": 43,
   "id": "22544d34",
   "metadata": {},
   "outputs": [
    {
     "data": {
      "text/plain": [
       "[1, True, 'korea']"
      ]
     },
     "execution_count": 43,
     "metadata": {},
     "output_type": "execute_result"
    }
   ],
   "source": [
    "[1,2,3]\n",
    "[1, True, 'korea']"
   ]
  },
  {
   "cell_type": "code",
   "execution_count": 47,
   "id": "ef2fabb0",
   "metadata": {},
   "outputs": [
    {
     "data": {
      "text/plain": [
       "True"
      ]
     },
     "execution_count": 47,
     "metadata": {},
     "output_type": "execute_result"
    }
   ],
   "source": [
    "#다음의 리스트에서 1번째 방을 출력하기\n",
    "[1, True, 'korea'][1]"
   ]
  },
  {
   "cell_type": "code",
   "execution_count": 48,
   "id": "22cd4e0f",
   "metadata": {},
   "outputs": [
    {
     "name": "stdout",
     "output_type": "stream",
     "text": [
      "<class 'str'>\n",
      "<class 'int'>\n",
      "<class 'bool'>\n",
      "<class 'list'>\n"
     ]
    }
   ],
   "source": [
    "# 데이터 타입 확인\n",
    "print(type('a'))\n",
    "print(type(1))\n",
    "print(type(True))\n",
    "print(type([1,2]))"
   ]
  },
  {
   "cell_type": "code",
   "execution_count": 50,
   "id": "2b387a8a",
   "metadata": {},
   "outputs": [
    {
     "data": {
      "text/plain": [
       "[1, 2, 3]"
      ]
     },
     "execution_count": 50,
     "metadata": {},
     "output_type": "execute_result"
    }
   ],
   "source": [
    "a = [1,2,3]\n",
    "a"
   ]
  },
  {
   "cell_type": "code",
   "execution_count": 52,
   "id": "25c39cbb",
   "metadata": {},
   "outputs": [
    {
     "data": {
      "text/plain": [
       "[1, 100, 3]"
      ]
     },
     "execution_count": 52,
     "metadata": {},
     "output_type": "execute_result"
    }
   ],
   "source": [
    "a[1] = 100\n",
    "a"
   ]
  },
  {
   "cell_type": "code",
   "execution_count": 54,
   "id": "886482fc",
   "metadata": {},
   "outputs": [
    {
     "data": {
      "text/plain": [
       "[1, 100, 'korea']"
      ]
     },
     "execution_count": 54,
     "metadata": {},
     "output_type": "execute_result"
    }
   ],
   "source": [
    "#실습하기 a변수의 2번째 방의 값을 korea로 수정\n",
    "a[2] = 'korea'\n",
    "a"
   ]
  },
  {
   "cell_type": "markdown",
   "id": "b56f705c",
   "metadata": {},
   "source": [
    "### 리스트 값 삭제"
   ]
  },
  {
   "cell_type": "code",
   "execution_count": 56,
   "id": "dea2c42b",
   "metadata": {},
   "outputs": [
    {
     "data": {
      "text/plain": [
       "['korea']"
      ]
     },
     "execution_count": 56,
     "metadata": {},
     "output_type": "execute_result"
    }
   ],
   "source": [
    "del a[0]\n",
    "a"
   ]
  },
  {
   "cell_type": "markdown",
   "id": "50426fc7",
   "metadata": {},
   "source": [
    "#### 딕셔너리 자료구조\n",
    "- key, value(쌍)로 이루어진 자료구조\n",
    ": key는 중복 불가능, value 중복 가능\n",
    "- {}는 dict를 생성\n",
    "* 순서가 없습니다"
   ]
  },
  {
   "cell_type": "code",
   "execution_count": 61,
   "id": "3b92e9ed",
   "metadata": {},
   "outputs": [],
   "source": [
    "dic_a = {'key1':'value1', 'key2':100, 'key2':'value1'}"
   ]
  },
  {
   "cell_type": "code",
   "execution_count": 72,
   "id": "56e68731",
   "metadata": {},
   "outputs": [
    {
     "name": "stdout",
     "output_type": "stream",
     "text": [
      "{'key1': 'value1', 'key2': 'value1'}\n",
      "value1\n"
     ]
    }
   ],
   "source": [
    "#값 조회하기\n",
    "print(dic_a)\n",
    "dic_a['key1']\n",
    "print(dic_a.get('key2'))"
   ]
  },
  {
   "cell_type": "code",
   "execution_count": 75,
   "id": "0a08d1a8",
   "metadata": {},
   "outputs": [
    {
     "data": {
      "text/plain": [
       "{'key1': 'korea', 'key2': 'value1'}"
      ]
     },
     "execution_count": 75,
     "metadata": {},
     "output_type": "execute_result"
    }
   ],
   "source": [
    "#값 수정, key1의 값을 korea로 수정하기\n",
    "dic_a['key1'] = 'korea'\n",
    "dic_a"
   ]
  },
  {
   "cell_type": "code",
   "execution_count": 78,
   "id": "28cbc0fe",
   "metadata": {},
   "outputs": [
    {
     "data": {
      "text/plain": [
       "{'key1': 'korea', 'key2': 'value1', 'key3': 'academy'}"
      ]
     },
     "execution_count": 78,
     "metadata": {},
     "output_type": "execute_result"
    }
   ],
   "source": [
    "#값 추가하기, 실습하기, key3을 추가하셔서 academy를 입력\n",
    "dic_a['key3'] = 'academy'\n",
    "dic_a"
   ]
  },
  {
   "cell_type": "code",
   "execution_count": 85,
   "id": "293a18d0",
   "metadata": {},
   "outputs": [
    {
     "ename": "KeyError",
     "evalue": "'key2'",
     "output_type": "error",
     "traceback": [
      "\u001b[0;31m---------------------------------------------------------------------------\u001b[0m",
      "\u001b[0;31mKeyError\u001b[0m                                  Traceback (most recent call last)",
      "Input \u001b[0;32mIn [85]\u001b[0m, in \u001b[0;36m<cell line: 2>\u001b[0;34m()\u001b[0m\n\u001b[1;32m      1\u001b[0m \u001b[38;5;66;03m# dic_A에서 key2 삭제 \u001b[39;00m\n\u001b[0;32m----> 2\u001b[0m \u001b[38;5;28;01mdel\u001b[39;00m dic_a[\u001b[38;5;124m'\u001b[39m\u001b[38;5;124mkey2\u001b[39m\u001b[38;5;124m'\u001b[39m]\n\u001b[1;32m      3\u001b[0m dic_a\n",
      "\u001b[0;31mKeyError\u001b[0m: 'key2'"
     ]
    }
   ],
   "source": [
    "# dic_A에서 key2 삭제 \n",
    "del dic_a['key2']\n",
    "dic_a"
   ]
  },
  {
   "cell_type": "code",
   "execution_count": 90,
   "id": "9d5cb397",
   "metadata": {},
   "outputs": [
    {
     "name": "stdout",
     "output_type": "stream",
     "text": [
      "dict_keys(['key1', 'key3'])\n",
      "dict_values(['korea', 'academy'])\n",
      "dict_items([('key1', 'korea'), ('key3', 'academy')])\n"
     ]
    }
   ],
   "source": [
    "#dict 를 사용하면 좋은 함수\n",
    "print(dic_a.keys())\n",
    "print(dic_a.values())\n",
    "print(dic_a.items())"
   ]
  },
  {
   "cell_type": "code",
   "execution_count": 93,
   "id": "1c81387a",
   "metadata": {},
   "outputs": [],
   "source": [
    "#모든 요소 삭제\n",
    "dic_a.clear()"
   ]
  },
  {
   "cell_type": "code",
   "execution_count": 94,
   "id": "d2995ff5",
   "metadata": {},
   "outputs": [
    {
     "data": {
      "text/plain": [
       "{}"
      ]
     },
     "execution_count": 94,
     "metadata": {},
     "output_type": "execute_result"
    }
   ],
   "source": [
    "dic_a"
   ]
  },
  {
   "cell_type": "code",
   "execution_count": null,
   "id": "9604d841",
   "metadata": {},
   "outputs": [],
   "source": []
  },
  {
   "cell_type": "code",
   "execution_count": null,
   "id": "f29883b9",
   "metadata": {},
   "outputs": [],
   "source": []
  }
 ],
 "metadata": {
  "kernelspec": {
   "display_name": "Python 3 (ipykernel)",
   "language": "python",
   "name": "python3"
  },
  "language_info": {
   "codemirror_mode": {
    "name": "ipython",
    "version": 3
   },
   "file_extension": ".py",
   "mimetype": "text/x-python",
   "name": "python",
   "nbconvert_exporter": "python",
   "pygments_lexer": "ipython3",
   "version": "3.9.12"
  }
 },
 "nbformat": 4,
 "nbformat_minor": 5
}
